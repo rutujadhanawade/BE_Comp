{
 "cells": [
  {
   "cell_type": "code",
   "execution_count": 1,
   "metadata": {},
   "outputs": [
    {
     "name": "stdout",
     "output_type": "stream",
     "text": [
      "Value of W11: 3.0\n"
     ]
    }
   ],
   "source": [
    "import numpy as np\n",
    "\n",
    "class NeuralNetwork:\n",
    "  def __init__(self, input_nodes, hidden_nodes):\n",
    "    self.layers = [input_nodes, hidden_nodes, 1]\n",
    "    self.__init_weights()\n",
    "\n",
    "  def __init_weights(self):\n",
    "    self.W = np.array([None for _ in range(len(self.layers) - 1)])\n",
    "    self.b = np.array([None for _ in range(len(self.layers) - 1)])\n",
    "    for i in range(len(self.layers) - 1):\n",
    "      self.W[i] = np.ones((self.layers[i+1], self.layers[i]))\n",
    "      self.b[i] = np.zeros((self.layers[i+1]))\n",
    "\n",
    "  def __train(self, X, y):\n",
    "    a = np.array([None for _ in range(len(self.layers) - 1)])\n",
    "    a[0] = X.copy()\n",
    "    a[1] = np.dot(self.W[0], a[0]) + self.b[0]\n",
    "    \n",
    "    self.W[1] -= -a[1]\n",
    "    self.b[1] -= -1\n",
    "    for i in range(len(a[0])):\n",
    "      self.W[0][:, i] -= -np.sum(self.W[1] * a[0][i], axis = 0)\n",
    "    self.b[0] -= -1\n",
    "\n",
    "  def fit(self, X, y):\n",
    "    for i in range(len(X)):\n",
    "      self.__train(X[i], y[i])\n",
    "\n",
    "model = NeuralNetwork(2, 2)\n",
    "\n",
    "model.fit([\n",
    "           np.array([1, 0])\n",
    "], [1])\n",
    "\n",
    "print(f'Value of W11: {model.W[0][0,0]}')"
   ]
  },
  {
   "cell_type": "code",
   "execution_count": null,
   "metadata": {},
   "outputs": [],
   "source": []
  }
 ],
 "metadata": {
  "kernelspec": {
   "display_name": "Python 3",
   "language": "python",
   "name": "python3"
  },
  "language_info": {
   "codemirror_mode": {
    "name": "ipython",
    "version": 3
   },
   "file_extension": ".py",
   "mimetype": "text/x-python",
   "name": "python",
   "nbconvert_exporter": "python",
   "pygments_lexer": "ipython3",
   "version": "3.8.5"
  }
 },
 "nbformat": 4,
 "nbformat_minor": 4
}
