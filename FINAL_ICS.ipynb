{
 "cells": [
  {
   "cell_type": "code",
   "execution_count": 6,
   "metadata": {},
   "outputs": [
    {
     "name": "stdout",
     "output_type": "stream",
     "text": [
      "Requirement already satisfied: sympy in /home/rutuja/.local/lib/python3.8/site-packages (1.10.1)\n",
      "Requirement already satisfied: mpmath>=0.19 in /home/rutuja/.local/lib/python3.8/site-packages (from sympy) (1.2.1)\n",
      "Note: you may need to restart the kernel to use updated packages.\n"
     ]
    }
   ],
   "source": [
    "pip install sympy"
   ]
  },
  {
   "cell_type": "code",
   "execution_count": null,
   "metadata": {},
   "outputs": [],
   "source": []
  },
  {
   "cell_type": "code",
   "execution_count": null,
   "metadata": {},
   "outputs": [],
   "source": []
  },
  {
   "cell_type": "code",
   "execution_count": null,
   "metadata": {},
   "outputs": [],
   "source": []
  },
  {
   "cell_type": "code",
   "execution_count": 64,
   "metadata": {
    "colab": {
     "base_uri": "https://localhost:8080/"
    },
    "id": "6OtR1RcU1i_C",
    "outputId": "5bce9714-2e8c-4ec6-9ae2-af8f2685bc82"
   },
   "outputs": [
    {
     "name": "stdout",
     "output_type": "stream",
     "text": [
      "Enter a 10-bit key: 1010110101\n",
      "Enter 8-bit plaintext: 01010101\n",
      "First Permutation\n",
      "1100011011\n",
      "Left key 11000\n",
      "Right key 11011\n",
      "*****\n",
      "First key\n",
      "10001111\n",
      "*****\n",
      "Second key\n",
      "11111001\n",
      "Initial Permutation 11001100\n",
      "Ciphertext: 01111001\n"
     ]
    }
   ],
   "source": [
    "# Tables for subkey generation (k1, k2, k3, ... k10)\n",
    "P10 = (3, 5, 2, 7, 4, 10, 1, 9, 8, 6)\n",
    "P8 = (6, 3, 7, 4, 8, 5, 10, 9)\n",
    "P4 = (2, 4, 3, 1)\n",
    "\n",
    "# Tables for initial and final permutations (b1, b2, b3, ... b8)\n",
    "IP = (2, 6, 3, 1, 4, 8, 5, 7)\n",
    "IPi = (4, 1, 3, 5, 7, 2, 8, 6)\n",
    "\n",
    "# Tables for the fk function\n",
    "E = (4, 1, 2, 3, 2, 3, 4, 1)\n",
    "S0 = [\n",
    "        [1, 0, 3, 2],\n",
    "        [3, 2, 1, 0],\n",
    "        [0, 2, 1, 3],\n",
    "        [3, 1, 3, 2]\n",
    "     ]\n",
    "S1 = [\n",
    "        [0, 1, 2, 3],\n",
    "        [2, 0, 1, 3],\n",
    "        [3, 0, 1, 0],\n",
    "        [2, 1, 0, 3]\n",
    "     ]\n",
    "\n",
    "def permutation(pattern, key):\n",
    "    permuted = \"\"\n",
    "\n",
    "    for i in pattern:\n",
    "        permuted += key[i-1]\n",
    "\n",
    "    return permuted\n",
    "\n",
    "def generate_first(left, right):\n",
    "    left = left[1:] + left[:1]\n",
    "    right = right[1:] + right[:1]\n",
    "    key = left + right\n",
    "\n",
    "    return permutation(P8, key)\n",
    "\n",
    "def generate_second(left, right):\n",
    "    left = left[3:] + left[:3]\n",
    "    right = right[3:] + right[:3]\n",
    "    key = left + right\n",
    "\n",
    "    return permutation(P8, key)\n",
    "\n",
    "def transform(right, key):\n",
    "    extended = permutation(E, right)\n",
    "    xor_cipher = bin(int(extended, 2) ^ int(key, 2))[2:].zfill(8)\n",
    "    xor_left = xor_cipher[:4]\n",
    "    xor_right = xor_cipher[4:]\n",
    "\n",
    "    new_left = Sbox(xor_left, S0)\n",
    "    new_right = Sbox(xor_right, S1)\n",
    "\n",
    "    return permutation(P4, new_left + new_right)\n",
    "\n",
    "def Sbox(data, box):\n",
    "    row = int(data[0] + data[3], 2)\n",
    "    column = int(data[1] + data[2], 2)\n",
    "\n",
    "    return bin(box[row][column])[2:].zfill(4)\n",
    "\n",
    "def encrypt(left, right, key):\n",
    "    cipher = int(left, 2) ^ int(transform(right, key), 2)\n",
    "\n",
    "    return right, bin(cipher)[2:].zfill(4)\n",
    "\n",
    "key = input(\"Enter a 10-bit key: \")\n",
    "if len(key) != 10:\n",
    "    raise Exception(\"Check the input\")\n",
    "\n",
    "plaintext = input(\"Enter 8-bit plaintext: \")\n",
    "if len(plaintext) != 8:\n",
    "    raise Exception(\"Check the input\")\n",
    "\n",
    "p10key = permutation(P10, key)\n",
    "print(\"First Permutation\")\n",
    "print(p10key)\n",
    "\n",
    "left_key = p10key[:len(p10key)//2]\n",
    "print(\"Left key\",left_key)\n",
    "\n",
    "right_key = p10key[len(p10key)//2:]\n",
    "print(\"Right key\",right_key)\n",
    "\n",
    "first_key = generate_first(left_key, right_key)\n",
    "print(\"*****\")\n",
    "print(\"First key\")\n",
    "print(first_key)\n",
    "\n",
    "second_key = generate_second(left_key, right_key)\n",
    "print(\"*****\")\n",
    "print(\"Second key\")\n",
    "print(second_key)\n",
    "\n",
    "initial_permutation = permutation(IP, plaintext)\n",
    "print(\"Initial Permutation\",initial_permutation)\n",
    "\n",
    "left_data = initial_permutation[:len(initial_permutation)//2]\n",
    "right_data = initial_permutation[len(initial_permutation)//2:]\n",
    "\n",
    "left, right = encrypt(left_data, right_data, first_key)\n",
    "left, right = encrypt(left, right, second_key)\n",
    "\n",
    "print(\"Ciphertext:\", permutation(IPi, left + right))"
   ]
  },
  {
   "cell_type": "code",
   "execution_count": 65,
   "metadata": {
    "colab": {
     "base_uri": "https://localhost:8080/"
    },
    "id": "0cXPAnjQYG8s",
    "outputId": "ad15cc3b-16ef-44ca-9bc5-b52087b755cc"
   },
   "outputs": [
    {
     "name": "stdout",
     "output_type": "stream",
     "text": [
      "The Value of P is :23\n",
      "The Value of G is :9\n",
      "The Private Key a for Alice is :4\n",
      "The Private Key b for Bob is :3\n",
      "Secret key for the Alice is : 9\n",
      "Secret Key for the Bob is : 9\n"
     ]
    }
   ],
   "source": [
    "# 2 hellman\n",
    "\n",
    "from random import randint\n",
    "\n",
    "if __name__ == '__main__':\n",
    "\n",
    "\t# Both the persons will be agreed upon the\n",
    "\t# public keys G and P\n",
    "\t# A prime number P is taken\n",
    "\tP = 23\n",
    "\t\n",
    "\t# A primitve root for P, G is taken\n",
    "\tG = 9\n",
    "\t\n",
    "\t\n",
    "\tprint('The Value of P is :%d'%(P))\n",
    "\tprint('The Value of G is :%d'%(G))\n",
    "\t\n",
    "\t# Alice will choose the private key a\n",
    "\ta = 4\n",
    "\tprint('The Private Key a for Alice is :%d'%(a))\n",
    "\t\n",
    "\t# gets the generated key\n",
    "\tx = int(pow(G,a,P))\n",
    "\t\n",
    "\t# Bob will choose the private key b\n",
    "\tb = 3\n",
    "\tprint('The Private Key b for Bob is :%d'%(b))\n",
    "\t\n",
    "\t# gets the generated key\n",
    "\ty = int(pow(G,b,P))\n",
    "\t\n",
    "\t\n",
    "\t# Secret key for Alice\n",
    "\tka = int(pow(y,a,P))\n",
    "\t\n",
    "\t# Secret key for Bob\n",
    "\tkb = int(pow(x,b,P))\n",
    "\t\n",
    "\tprint('Secret key for the Alice is : %d'%(ka))\n",
    "\tprint('Secret Key for the Bob is : %d'%(kb))"
   ]
  },
  {
   "cell_type": "code",
   "execution_count": 68,
   "metadata": {
    "colab": {
     "base_uri": "https://localhost:8080/"
    },
    "id": "Tqdd6E8FY-ZI",
    "outputId": "23277174-4f03-4145-c1ba-492a8e3d79bb"
   },
   "outputs": [
    {
     "name": "stdout",
     "output_type": "stream",
     "text": [
      "RSA\n",
      " - Enter a prime number (17, 19, 23, etc): 17\n",
      " - Enter another prime number23\n",
      " - Generating your public / private key-pairs now . . .\n",
      " - Your public key is  (31, 391)  and your private key is  (511, 391)\n",
      " - Enter a message to encrypt with your public key: ffgfgd\n",
      " - Your encrypted message is:  204204341204341331\n",
      " - Decrypting message with private key  (511, 391)\n",
      " - Your message is:  ffgfgd\n"
     ]
    }
   ],
   "source": [
    "#4 RSA\n",
    "import random\n",
    "\n",
    "\n",
    "'''\n",
    "Euclid's algorithm for determining the greatest common divisor\n",
    "Use iteration to make it faster for larger integers\n",
    "'''\n",
    "\n",
    "def gcd(a, b):\n",
    "    while b != 0:\n",
    "        a, b = b, a % b\n",
    "    return a\n",
    "\n",
    "\n",
    "'''\n",
    "Euclid's extended algorithm for finding the multiplicative inverse of two numbers\n",
    "'''\n",
    "\n",
    "\n",
    "def multiplicative_inverse(e, phi):\n",
    "    d = 0\n",
    "    x1 = 0\n",
    "    x2 = 1\n",
    "    y1 = 1\n",
    "    temp_phi = phi\n",
    "\n",
    "    while e > 0:\n",
    "        temp1 = temp_phi//e\n",
    "        temp2 = temp_phi - temp1 * e\n",
    "        temp_phi = e\n",
    "        e = temp2\n",
    "\n",
    "        x = x2 - temp1 * x1\n",
    "        y = d - temp1 * y1\n",
    "\n",
    "        x2 = x1\n",
    "        x1 = x\n",
    "        d = y1\n",
    "        y1 = y\n",
    "\n",
    "    if temp_phi == 1:\n",
    "        return d + phi\n",
    "\n",
    "\n",
    "'''\n",
    "Tests to see if a number is prime.\n",
    "'''\n",
    "\n",
    "\n",
    "def is_prime(num):\n",
    "    if num == 2:\n",
    "        return True\n",
    "    if num < 2 or num % 2 == 0:\n",
    "        return False\n",
    "    for n in range(3, int(num**0.5)+2, 2):\n",
    "        if num % n == 0:\n",
    "            return False\n",
    "    return True\n",
    "\n",
    "\n",
    "def generate_key_pair(p, q):\n",
    "    if not (is_prime(p) and is_prime(q)):\n",
    "        raise ValueError('Both numbers must be prime.')\n",
    "    elif p == q:\n",
    "        raise ValueError('p and q cannot be equal')\n",
    "    # n = pq\n",
    "    n = p * q\n",
    "\n",
    "    # Phi is the totient of n\n",
    "    phi = (p-1) * (q-1)\n",
    "\n",
    "    # Choose an integer e such that e and phi(n) are coprime\n",
    "    e = random.randrange(1, phi)\n",
    "\n",
    "    # Use Euclid's Algorithm to verify that e and phi(n) are coprime\n",
    "    g = gcd(e, phi)\n",
    "    while g != 1:\n",
    "        e = random.randrange(1, phi)\n",
    "        g = gcd(e, phi)\n",
    "\n",
    "    # Use Extended Euclid's Algorithm to generate the private key\n",
    "    d = multiplicative_inverse(e, phi)\n",
    "\n",
    "    # Return public and private key_pair\n",
    "    # Public key is (e, n) and private key is (d, n)\n",
    "    return ((e, n), (d, n))\n",
    "\n",
    "\n",
    "def encrypt(pk, plaintext):\n",
    "    # Unpack the key into it's components\n",
    "    key, n = pk\n",
    "    # Convert each letter in the plaintext to numbers based on the character using a^b mod m\n",
    "    cipher = [pow(ord(char), key, n) for char in plaintext]\n",
    "    # Return the array of bytes\n",
    "    return cipher\n",
    "\n",
    "\n",
    "def decrypt(pk, ciphertext):\n",
    "    # Unpack the key into its components\n",
    "    key, n = pk\n",
    "    # Generate the plaintext based on the ciphertext and key using a^b mod m\n",
    "    aux = [str(pow(char, key, n)) for char in ciphertext]\n",
    "    # Return the array of bytes as a string\n",
    "    plain = [chr(int(char2)) for char2 in aux]\n",
    "    return ''.join(plain)\n",
    "\n",
    "\n",
    "if __name__ == '__main__':\n",
    "    '''\n",
    "    Detect if the script is being run directly by the user\n",
    "    '''\n",
    "    print(\"RSA\")\n",
    "\n",
    "    p = int(input(\" - Enter a prime number (17, 19, 23, etc): \"))\n",
    "    q = int(input(\" - Enter another prime number\"))\n",
    "\n",
    "    print(\" - Generating your public / private key-pairs now . . .\")\n",
    "\n",
    "    public, private = generate_key_pair(p, q)\n",
    "\n",
    "    print(\" - Your public key is \", public, \" and your private key is \", private)\n",
    "\n",
    "    message = input(\" - Enter a message to encrypt with your public key: \")\n",
    "    encrypted_msg = encrypt(public, message)\n",
    "\n",
    "    print(\" - Your encrypted message is: \", ''.join(map(lambda x: str(x), encrypted_msg)))\n",
    "    print(\" - Decrypting message with private key \", private)\n",
    "    print(\" - Your message is: \", decrypt(private, encrypted_msg))"
   ]
  },
  {
   "cell_type": "code",
   "execution_count": 71,
   "metadata": {
    "id": "1RlvaABUdGiU"
   },
   "outputs": [],
   "source": [
    "'''\n",
    "Public Key is (e,n)\n",
    "Private Key is (d,n)\n",
    "'''\n",
    "def generate_keys():\n",
    "\n",
    "  from random import randint\n",
    "  from math import gcd\n",
    "  from sympy import mod_inverse\n",
    "\n",
    "  # Generate Two unequal Large Primes of comparable size\n",
    "  p, q = 877, 751\n",
    "  #p, q = 6971, 6299\n",
    "\n",
    "  # For large p and q, n will take centuries to factorize\n",
    "  n = p*q\n",
    "\n",
    "  # phi function\n",
    "  fi_n = (p-1)*(q-1)\n",
    "  \n",
    "  # e and fi_n are relatively prime if their gcd is 1\n",
    "  while True:\n",
    "    e = randint(1, fi_n)\n",
    "    if gcd(fi_n, e) == 1:\n",
    "      break\n",
    "  \n",
    "  # inverse modulo exists iff e and fi_n are relatively prime\n",
    "  # Modular Inverse\n",
    "  d = mod_inverse(e, fi_n)\n",
    "\n",
    "  return (e,n), (d,n)\n",
    "\n",
    "\n",
    "public_key, private_key = generate_keys()"
   ]
  },
  {
   "cell_type": "code",
   "execution_count": 72,
   "metadata": {},
   "outputs": [
    {
     "data": {
      "text/plain": [
       "277089"
      ]
     },
     "execution_count": 72,
     "metadata": {},
     "output_type": "execute_result"
    }
   ],
   "source": [
    "def encryption(m, public_key):\n",
    "  e, n = public_key\n",
    "  c = m**e % n\n",
    "  return c\n",
    "\n",
    "c = encryption(ord('A'), public_key)\n",
    "c"
   ]
  },
  {
   "cell_type": "code",
   "execution_count": 73,
   "metadata": {},
   "outputs": [
    {
     "data": {
      "text/plain": [
       "'A'"
      ]
     },
     "execution_count": 73,
     "metadata": {},
     "output_type": "execute_result"
    }
   ],
   "source": [
    "def decryption(c, private_key):\n",
    "  d, n = private_key\n",
    "  p = c**d % n\n",
    "  return p\n",
    "\n",
    "p = decryption(c, private_key)\n",
    "chr(p)\n"
   ]
  },
  {
   "cell_type": "code",
   "execution_count": 74,
   "metadata": {},
   "outputs": [
    {
     "data": {
      "text/plain": [
       "'\\U00014b87𢷲\\U00014b87𢷲\\U00014b87𢷲'"
      ]
     },
     "execution_count": 74,
     "metadata": {},
     "output_type": "execute_result"
    }
   ],
   "source": [
    "def encrypt_text(plain_text, public_key):\n",
    "  cipher_text = ''\n",
    "  for character in plain_text:\n",
    "    cipher_text += chr(encryption(ord(character), public_key))\n",
    "  return cipher_text\n",
    "\n",
    "cipher_text = encrypt_text('dsdsds', public_key)\n",
    "cipher_text"
   ]
  },
  {
   "cell_type": "code",
   "execution_count": 75,
   "metadata": {},
   "outputs": [
    {
     "data": {
      "text/plain": [
       "'dsdsds'"
      ]
     },
     "execution_count": 75,
     "metadata": {},
     "output_type": "execute_result"
    }
   ],
   "source": [
    "def decrypt_text(cipher_text, private_key):\n",
    "  decrypted_text = ''\n",
    "  for character in cipher_text:\n",
    "    decrypted_text += chr(encryption(ord(character), private_key))\n",
    "  return decrypted_text\n",
    "\n",
    "decrypted_text = decrypt_text(cipher_text, private_key)\n",
    "decrypted_text"
   ]
  },
  {
   "cell_type": "code",
   "execution_count": 14,
   "metadata": {
    "colab": {
     "base_uri": "https://localhost:8080/"
    },
    "id": "2DK07ynCWd0X",
    "outputId": "1c4c83a4-d960-440b-d3e4-c30dc0f41a1c"
   },
   "outputs": [
    {
     "name": "stdout",
     "output_type": "stream",
     "text": [
      "Enter the coefficient 'a' of curve: 3\n",
      "Enter the coefficient 'b' of curve: 4\n",
      "generating\n",
      "Generator point:  [5, 12]\n",
      "Enter the plaintext integer: 1010101010\n",
      "Public Key of A:  [65, 156]\n",
      "Public Key of B:  [75, 180]\n",
      "Ciphertext:  [170, 1010103560]\n",
      "Decrypted Plaintext:  1010101010\n"
     ]
    }
   ],
   "source": [
    "# 5 ECC\n",
    "import math\n",
    "import random\n",
    "\n",
    "def point(a, b):\n",
    "\n",
    "\tif (4*(a**3) + 27*(b**2)) != 0:\n",
    "\t\tx = 1\n",
    "\t\tprint(\"generating\")\n",
    "\t\twhile True:\n",
    "\t\t\trhs = (x**3) + (a*x) + b\n",
    "\t\t\ty = int(math.sqrt(rhs))\n",
    "\t\t\tlhs = (y**2)\n",
    "\n",
    "\t\t\tif lhs == rhs:\n",
    "\t\t\t\treturn [x, y]\n",
    "\t\t\telse:\n",
    "\t\t\t\tx += 1\n",
    "\telse:\n",
    "\t\tprint(\"Enter another coefficients.\")\n",
    "\n",
    "\n",
    "a = int(input(\"Enter the coefficient 'a' of curve: \"))\n",
    "b = int(input(\"Enter the coefficient 'b' of curve: \"))\n",
    "\n",
    "private_A = 13\n",
    "private_B = 15\n",
    "\n",
    "generator = point(a, b)\n",
    "print(\"Generator point: \", generator)\n",
    "\n",
    "m = int(input(\"Enter the plaintext integer: \"))\n",
    "\n",
    "public_key_A = [private_A*generator[0], private_A*generator[1]]\n",
    "print(\"Public Key of A: \", public_key_A)\n",
    "\n",
    "public_key_B = [private_B*generator[0], private_B*generator[1]]\n",
    "print(\"Public Key of B: \", public_key_B)\n",
    "\n",
    "k = random.randint(0, 10)\n",
    "\n",
    "c1 = k * (generator[0] + generator[1])\n",
    "\n",
    "c2 = m + ((k*public_key_B[0]) + (k*public_key_B[1]))\n",
    "\n",
    "ciphertext = [c1, c2]\n",
    "print(\"Ciphertext: \", ciphertext)\n",
    "\n",
    "r = private_B*c1\n",
    "\n",
    "plaintext = c2 - r\n",
    "print(\"Decrypted Plaintext: \", plaintext)\n"
   ]
  },
  {
   "cell_type": "markdown",
   "metadata": {
    "id": "Y1dZ3GuEgiFy"
   },
   "source": []
  }
 ],
 "metadata": {
  "colab": {
   "name": "ICS.ipynb",
   "provenance": []
  },
  "kernelspec": {
   "display_name": "Python 3 (ipykernel)",
   "language": "python",
   "name": "python3"
  },
  "language_info": {
   "codemirror_mode": {
    "name": "ipython",
    "version": 3
   },
   "file_extension": ".py",
   "mimetype": "text/x-python",
   "name": "python",
   "nbconvert_exporter": "python",
   "pygments_lexer": "ipython3",
   "version": "3.8.10"
  }
 },
 "nbformat": 4,
 "nbformat_minor": 1
}
